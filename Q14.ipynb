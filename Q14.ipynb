{
 "cells": [
  {
   "cell_type": "code",
   "id": "initial_id",
   "metadata": {
    "collapsed": true,
    "ExecuteTime": {
     "end_time": "2024-07-03T12:31:53.845308Z",
     "start_time": "2024-07-03T12:31:53.842937Z"
    }
   },
   "source": "import numpy as np",
   "outputs": [],
   "execution_count": 1
  },
  {
   "metadata": {
    "ExecuteTime": {
     "end_time": "2024-07-03T12:35:34.654231Z",
     "start_time": "2024-07-03T12:35:34.649699Z"
    }
   },
   "cell_type": "code",
   "source": [
    "# array creation\n",
    "a = np.array([1, 2, 3])  # 1d array\n",
    "b = np.array([[1, 2], [3, 4]])  # 2d array\n",
    "c = np.zeros((3, 3))  # 3 * 3 arrays of zeroes   \n",
    "d = np.ones((2, 2))  # 2 * 2 arrays of ones\n",
    "e = np.arange(0, 10, 2)  # (start, end, steps) - create an array like this\n",
    "\n",
    "print(a)\n",
    "print(b)\n",
    "print(c)\n",
    "print(d)\n",
    "print(e)"
   ],
   "id": "d097ac91cc4d3c02",
   "outputs": [
    {
     "name": "stdout",
     "output_type": "stream",
     "text": [
      "[1 2 3]\n",
      "[[1 2]\n",
      " [3 4]]\n",
      "[[0. 0. 0.]\n",
      " [0. 0. 0.]\n",
      " [0. 0. 0.]]\n",
      "[[1. 1.]\n",
      " [1. 1.]]\n",
      "[0 2 4 6 8]\n"
     ]
    }
   ],
   "execution_count": 5
  },
  {
   "metadata": {
    "ExecuteTime": {
     "end_time": "2024-07-03T12:39:17.037419Z",
     "start_time": "2024-07-03T12:39:17.030047Z"
    }
   },
   "cell_type": "code",
   "source": [
    "# array operations\n",
    "print(a + 1)  # adding 1 to each element\n",
    "print(a * 2)  # multiplying each element by 2\n",
    "print(a ** 2)  # square each element\n",
    "np.sqrt(a)  # square root of each element"
   ],
   "id": "9c6c2d19a4c0e139",
   "outputs": [
    {
     "name": "stdout",
     "output_type": "stream",
     "text": [
      "[2 3 4]\n",
      "[2 4 6]\n",
      "[1 4 9]\n"
     ]
    },
    {
     "data": {
      "text/plain": [
       "array([1.        , 1.41421356, 1.73205081])"
      ]
     },
     "execution_count": 8,
     "metadata": {},
     "output_type": "execute_result"
    }
   ],
   "execution_count": 8
  },
  {
   "metadata": {
    "ExecuteTime": {
     "end_time": "2024-07-03T12:42:03.409560Z",
     "start_time": "2024-07-03T12:42:03.405929Z"
    }
   },
   "cell_type": "code",
   "source": [
    "# array indexing and slicing\n",
    "print(a[0])  # 1 st element\n",
    "print(b[0, 1])  # element at row 0 and column 1\n",
    "print(a[1:])  # elements from index 1 onwards\n",
    "print(b[:, 1])  # every row but 2nd column"
   ],
   "id": "7ed5e57dd125d631",
   "outputs": [
    {
     "name": "stdout",
     "output_type": "stream",
     "text": [
      "1\n",
      "2\n",
      "[2 3]\n",
      "[2 4]\n"
     ]
    }
   ],
   "execution_count": 9
  },
  {
   "metadata": {
    "ExecuteTime": {
     "end_time": "2024-07-03T12:43:28.086526Z",
     "start_time": "2024-07-03T12:43:28.083682Z"
    }
   },
   "cell_type": "code",
   "source": [
    "# array shape manipulation\n",
    "print(a.reshape(3, 1))  # reshape to 3 * 1 array\n",
    "print(b.flatten())  # flatten 2d array to 1d array"
   ],
   "id": "a5f9bc1b11a9c2f8",
   "outputs": [
    {
     "name": "stdout",
     "output_type": "stream",
     "text": [
      "[[1]\n",
      " [2]\n",
      " [3]]\n",
      "[1 2 3 4]\n"
     ]
    }
   ],
   "execution_count": 10
  },
  {
   "metadata": {
    "ExecuteTime": {
     "end_time": "2024-07-04T06:22:27.360764Z",
     "start_time": "2024-07-04T06:22:27.094851Z"
    }
   },
   "cell_type": "code",
   "source": [
    "# mathematical operations\n",
    "print(np.sum(a))  # sum of all elements\n",
    "print(np.mean(a))  # mean of all elements\n",
    "print(np.max(a))  # max of all elements\n",
    "print(np.min(a))  # min of all elements\n",
    "print(np.median(a))\n",
    "print(np.sqrt(a))\n"
   ],
   "id": "78550e05dbca0e96",
   "outputs": [
    {
     "ename": "NameError",
     "evalue": "name 'np' is not defined",
     "output_type": "error",
     "traceback": [
      "\u001B[0;31m---------------------------------------------------------------------------\u001B[0m",
      "\u001B[0;31mNameError\u001B[0m                                 Traceback (most recent call last)",
      "Cell \u001B[0;32mIn[1], line 2\u001B[0m\n\u001B[1;32m      1\u001B[0m \u001B[38;5;66;03m# mathematical operations\u001B[39;00m\n\u001B[0;32m----> 2\u001B[0m \u001B[38;5;28mprint\u001B[39m(np\u001B[38;5;241m.\u001B[39msum(a))  \u001B[38;5;66;03m# sum of all elements\u001B[39;00m\n\u001B[1;32m      3\u001B[0m \u001B[38;5;28mprint\u001B[39m(np\u001B[38;5;241m.\u001B[39mmean(a))  \u001B[38;5;66;03m# mean of all elements\u001B[39;00m\n\u001B[1;32m      4\u001B[0m \u001B[38;5;28mprint\u001B[39m(np\u001B[38;5;241m.\u001B[39mmax(a))  \u001B[38;5;66;03m# max of all elements\u001B[39;00m\n",
      "\u001B[0;31mNameError\u001B[0m: name 'np' is not defined"
     ]
    }
   ],
   "execution_count": 1
  },
  {
   "metadata": {
    "ExecuteTime": {
     "end_time": "2024-07-03T12:46:47.954326Z",
     "start_time": "2024-07-03T12:46:47.950358Z"
    }
   },
   "cell_type": "code",
   "source": [
    "# linear algebra\n",
    "print(np.dot(a, a))  # dot product \n",
    "print(np.linalg.inv(b))  # inverse of a matrix\n",
    "print(np.linalg.eig(b))  # eigen values and eigen vectors"
   ],
   "id": "edc49319f0f778a7",
   "outputs": [
    {
     "name": "stdout",
     "output_type": "stream",
     "text": [
      "14\n",
      "[[-2.   1. ]\n",
      " [ 1.5 -0.5]]\n",
      "EigResult(eigenvalues=array([-0.37228132,  5.37228132]), eigenvectors=array([[-0.82456484, -0.41597356],\n",
      "       [ 0.56576746, -0.90937671]]))\n"
     ]
    }
   ],
   "execution_count": 12
  },
  {
   "metadata": {
    "ExecuteTime": {
     "end_time": "2024-07-03T12:48:37.916896Z",
     "start_time": "2024-07-03T12:48:37.913773Z"
    }
   },
   "cell_type": "code",
   "source": [
    "# broadcasting\n",
    "a += np.array([10, 20, 30])\n",
    "print(a)"
   ],
   "id": "94bff944a809d9ff",
   "outputs": [
    {
     "name": "stdout",
     "output_type": "stream",
     "text": [
      "[ 41  82 123]\n"
     ]
    }
   ],
   "execution_count": 18
  },
  {
   "metadata": {
    "ExecuteTime": {
     "end_time": "2024-07-03T12:50:22.104725Z",
     "start_time": "2024-07-03T12:50:22.100703Z"
    }
   },
   "cell_type": "code",
   "source": [
    "# random number generation\n",
    "print(np.random.rand(3, 3))  # 3 * 3 array of random numbers between 0 and 1\n",
    "print(np.random.randn(3, 3))  # 3 * 3 array of random numbers from standard normal distribution"
   ],
   "id": "b48f9524057e0568",
   "outputs": [
    {
     "name": "stdout",
     "output_type": "stream",
     "text": [
      "[[0.11512604 0.99190553 0.0047844 ]\n",
      " [0.26960447 0.7302894  0.62799881]\n",
      " [0.71770603 0.80607675 0.04011463]]\n",
      "[[ 1.7539608  -0.07387442 -0.52507189]\n",
      " [ 0.14927733  0.93734651 -1.06361014]\n",
      " [ 1.13980298 -2.12267527 -1.33419005]]\n"
     ]
    }
   ],
   "execution_count": 19
  },
  {
   "metadata": {},
   "cell_type": "code",
   "outputs": [],
   "execution_count": null,
   "source": "",
   "id": "8c4a0959a8829fe5"
  }
 ],
 "metadata": {
  "kernelspec": {
   "display_name": "Python 3",
   "language": "python",
   "name": "python3"
  },
  "language_info": {
   "codemirror_mode": {
    "name": "ipython",
    "version": 2
   },
   "file_extension": ".py",
   "mimetype": "text/x-python",
   "name": "python",
   "nbconvert_exporter": "python",
   "pygments_lexer": "ipython2",
   "version": "2.7.6"
  }
 },
 "nbformat": 4,
 "nbformat_minor": 5
}
